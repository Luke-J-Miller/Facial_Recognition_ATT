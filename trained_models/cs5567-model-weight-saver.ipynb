{
 "cells": [
  {
   "cell_type": "code",
   "execution_count": 1,
   "id": "a4cc765a",
   "metadata": {
    "_cell_guid": "b1076dfc-b9ad-4769-8c92-a6c4dae69d19",
    "_uuid": "8f2839f25d086af736a60e9eeb907d3b93b6e0e5",
    "execution": {
     "iopub.execute_input": "2023-12-08T17:14:30.331717Z",
     "iopub.status.busy": "2023-12-08T17:14:30.331069Z",
     "iopub.status.idle": "2023-12-08T17:14:48.417383Z",
     "shell.execute_reply": "2023-12-08T17:14:48.415901Z"
    },
    "papermill": {
     "duration": 18.096867,
     "end_time": "2023-12-08T17:14:48.421694",
     "exception": false,
     "start_time": "2023-12-08T17:14:30.324827",
     "status": "completed"
    },
    "tags": []
   },
   "outputs": [
    {
     "name": "stdout",
     "output_type": "stream",
     "text": [
      "/kaggle/input/subj-indep-model/model/fingerprint.pb\n",
      "/kaggle/input/subj-indep-model/model/saved_model.pb\n",
      "/kaggle/input/subj-indep-model/model/keras_metadata.pb\n",
      "/kaggle/input/subj-indep-model/model/variables/variables.index\n",
      "/kaggle/input/subj-indep-model/model/variables/variables.data-00000-of-00001\n",
      "/kaggle/input/subj-indep-model/numpy_data/train_labels_num.npy\n",
      "/kaggle/input/subj-indep-model/numpy_data/val_labels_encoded.npy\n",
      "/kaggle/input/subj-indep-model/numpy_data/test_labels_num.npy\n",
      "/kaggle/input/subj-indep-model/numpy_data/train_images.npy\n",
      "/kaggle/input/subj-indep-model/numpy_data/test_labels_encoded.npy\n",
      "/kaggle/input/subj-indep-model/numpy_data/val_labels_num.npy\n",
      "/kaggle/input/subj-indep-model/numpy_data/val_images.npy\n",
      "/kaggle/input/subj-indep-model/numpy_data/train_labels_encoded.npy\n",
      "/kaggle/input/subj-indep-model/numpy_data/test_images.npy\n",
      "/kaggle/input/cs5567-model-and-numpy-data/model/fingerprint.pb\n",
      "/kaggle/input/cs5567-model-and-numpy-data/model/saved_model.pb\n",
      "/kaggle/input/cs5567-model-and-numpy-data/model/keras_metadata.pb\n",
      "/kaggle/input/cs5567-model-and-numpy-data/model/variables/variables.index\n",
      "/kaggle/input/cs5567-model-and-numpy-data/model/variables/variables.data-00000-of-00001\n",
      "/kaggle/input/cs5567-model-and-numpy-data/numpy_data/train_labels_num.npy\n",
      "/kaggle/input/cs5567-model-and-numpy-data/numpy_data/val_labels_encoded.npy\n",
      "/kaggle/input/cs5567-model-and-numpy-data/numpy_data/test_labels_num.npy\n",
      "/kaggle/input/cs5567-model-and-numpy-data/numpy_data/train_images.npy\n",
      "/kaggle/input/cs5567-model-and-numpy-data/numpy_data/test_labels_encoded.npy\n",
      "/kaggle/input/cs5567-model-and-numpy-data/numpy_data/val_labels_num.npy\n",
      "/kaggle/input/cs5567-model-and-numpy-data/numpy_data/val_images.npy\n",
      "/kaggle/input/cs5567-model-and-numpy-data/numpy_data/train_labels_encoded.npy\n",
      "/kaggle/input/cs5567-model-and-numpy-data/numpy_data/test_images.npy\n",
      "/kaggle/input/dropout-model-weights/model/fingerprint.pb\n",
      "/kaggle/input/dropout-model-weights/model/saved_model.pb\n",
      "/kaggle/input/dropout-model-weights/model/keras_metadata.pb\n",
      "/kaggle/input/dropout-model-weights/model/variables/variables.index\n",
      "/kaggle/input/dropout-model-weights/model/variables/variables.data-00000-of-00001\n",
      "/kaggle/input/dropout-model-weights/numpy_data/train_labels_num.npy\n",
      "/kaggle/input/dropout-model-weights/numpy_data/val_labels_encoded.npy\n",
      "/kaggle/input/dropout-model-weights/numpy_data/test_labels_num.npy\n",
      "/kaggle/input/dropout-model-weights/numpy_data/train_images.npy\n",
      "/kaggle/input/dropout-model-weights/numpy_data/test_labels_encoded.npy\n",
      "/kaggle/input/dropout-model-weights/numpy_data/val_labels_num.npy\n",
      "/kaggle/input/dropout-model-weights/numpy_data/val_images.npy\n",
      "/kaggle/input/dropout-model-weights/numpy_data/train_labels_encoded.npy\n",
      "/kaggle/input/dropout-model-weights/numpy_data/test_images.npy\n",
      "/kaggle/input/cs5567-subj-dep-w-dropout-and-reg/model/fingerprint.pb\n",
      "/kaggle/input/cs5567-subj-dep-w-dropout-and-reg/model/saved_model.pb\n",
      "/kaggle/input/cs5567-subj-dep-w-dropout-and-reg/model/keras_metadata.pb\n",
      "/kaggle/input/cs5567-subj-dep-w-dropout-and-reg/model/variables/variables.index\n",
      "/kaggle/input/cs5567-subj-dep-w-dropout-and-reg/model/variables/variables.data-00000-of-00001\n",
      "/kaggle/input/cs5567-subj-dep-w-dropout-and-reg/numpy_data/train_labels_num.npy\n",
      "/kaggle/input/cs5567-subj-dep-w-dropout-and-reg/numpy_data/val_labels_encoded.npy\n",
      "/kaggle/input/cs5567-subj-dep-w-dropout-and-reg/numpy_data/test_labels_num.npy\n",
      "/kaggle/input/cs5567-subj-dep-w-dropout-and-reg/numpy_data/train_images.npy\n",
      "/kaggle/input/cs5567-subj-dep-w-dropout-and-reg/numpy_data/test_labels_encoded.npy\n",
      "/kaggle/input/cs5567-subj-dep-w-dropout-and-reg/numpy_data/val_labels_num.npy\n",
      "/kaggle/input/cs5567-subj-dep-w-dropout-and-reg/numpy_data/val_images.npy\n",
      "/kaggle/input/cs5567-subj-dep-w-dropout-and-reg/numpy_data/train_labels_encoded.npy\n",
      "/kaggle/input/cs5567-subj-dep-w-dropout-and-reg/numpy_data/test_images.npy\n"
     ]
    }
   ],
   "source": [
    "# This Python 3 environment comes with many helpful analytics libraries installed\n",
    "# It is defined by the kaggle/python Docker image: https://github.com/kaggle/docker-python\n",
    "# For example, here's several helpful packages to load\n",
    "\n",
    "import numpy as np # linear algebra\n",
    "import pandas as pd # data processing, CSV file I/O (e.g. pd.read_csv)\n",
    "\n",
    "# Input data files are available in the read-only \"../input/\" directory\n",
    "# For example, running this (by clicking run or pressing Shift+Enter) will list all files under the input directory\n",
    "\n",
    "import os\n",
    "for dirname, _, filenames in os.walk('/kaggle/input'):\n",
    "    for filename in filenames:\n",
    "        print(os.path.join(dirname, filename))\n",
    "from tensorflow.keras.models import load_model\n",
    "# You can write up to 20GB to the current directory (/kaggle/working/) that gets preserved as output when you create a version using \"Save & Run All\" \n",
    "# You can also write temporary files to /kaggle/temp/, but they won't be saved outside of the current session"
   ]
  },
  {
   "cell_type": "code",
   "execution_count": 2,
   "id": "d6a9de83",
   "metadata": {
    "execution": {
     "iopub.execute_input": "2023-12-08T17:14:48.431031Z",
     "iopub.status.busy": "2023-12-08T17:14:48.430064Z",
     "iopub.status.idle": "2023-12-08T17:16:33.419033Z",
     "shell.execute_reply": "2023-12-08T17:16:33.417315Z"
    },
    "papermill": {
     "duration": 104.998065,
     "end_time": "2023-12-08T17:16:33.423387",
     "exception": false,
     "start_time": "2023-12-08T17:14:48.425322",
     "status": "completed"
    },
    "tags": []
   },
   "outputs": [],
   "source": [
    "subj_dep_model = load_model('/kaggle/input/cs5567-model-and-numpy-data/model')\n",
    "subj_dep_w_dropout = load_model('/kaggle/input/dropout-model-weights/model')\n",
    "subj_dep_w_dropout_and_reg = load_model('/kaggle/input/cs5567-subj-dep-w-dropout-and-reg/model')\n",
    "subj_indep_model = load_model('/kaggle/input/subj-indep-model/model')"
   ]
  },
  {
   "cell_type": "code",
   "execution_count": 3,
   "id": "214ce713",
   "metadata": {
    "execution": {
     "iopub.execute_input": "2023-12-08T17:16:33.433710Z",
     "iopub.status.busy": "2023-12-08T17:16:33.433018Z",
     "iopub.status.idle": "2023-12-08T17:19:47.729190Z",
     "shell.execute_reply": "2023-12-08T17:19:47.727615Z"
    },
    "papermill": {
     "duration": 194.305573,
     "end_time": "2023-12-08T17:19:47.732666",
     "exception": false,
     "start_time": "2023-12-08T17:16:33.427093",
     "status": "completed"
    },
    "tags": []
   },
   "outputs": [],
   "source": [
    "if not os.path.exists('models'):\n",
    "            os.makedirs('models')\n",
    "subj_dep_model.save('subj_dep_model')\n",
    "subj_dep_w_dropout.save('subj_dep_w_dropout')\n",
    "subj_dep_w_dropout_and_reg.save('subj_dep_w_dropout_and_reg')\n",
    "subj_indep_model.save('subj_indep_model')"
   ]
  }
 ],
 "metadata": {
  "kaggle": {
   "accelerator": "none",
   "dataSources": [
    {
     "datasetId": 4127748,
     "sourceId": 7149488,
     "sourceType": "datasetVersion"
    },
    {
     "datasetId": 4122377,
     "sourceId": 7142226,
     "sourceType": "datasetVersion"
    },
    {
     "datasetId": 4132662,
     "sourceId": 7156081,
     "sourceType": "datasetVersion"
    },
    {
     "datasetId": 4132392,
     "sourceId": 7155744,
     "sourceType": "datasetVersion"
    }
   ],
   "dockerImageVersionId": 30615,
   "isGpuEnabled": false,
   "isInternetEnabled": true,
   "language": "python",
   "sourceType": "notebook"
  },
  "kernelspec": {
   "display_name": "Python 3",
   "language": "python",
   "name": "python3"
  },
  "language_info": {
   "codemirror_mode": {
    "name": "ipython",
    "version": 3
   },
   "file_extension": ".py",
   "mimetype": "text/x-python",
   "name": "python",
   "nbconvert_exporter": "python",
   "pygments_lexer": "ipython3",
   "version": "3.10.12"
  },
  "papermill": {
   "default_parameters": {},
   "duration": 324.383359,
   "end_time": "2023-12-08T17:19:50.588797",
   "environment_variables": {},
   "exception": null,
   "input_path": "__notebook__.ipynb",
   "output_path": "__notebook__.ipynb",
   "parameters": {},
   "start_time": "2023-12-08T17:14:26.205438",
   "version": "2.4.0"
  }
 },
 "nbformat": 4,
 "nbformat_minor": 5
}
