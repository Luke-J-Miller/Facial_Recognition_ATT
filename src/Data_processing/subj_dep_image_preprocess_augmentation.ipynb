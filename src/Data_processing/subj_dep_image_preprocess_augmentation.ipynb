{
 "cells": [
  {
   "cell_type": "code",
   "execution_count": 1,
   "id": "df5e8366",
   "metadata": {
    "_cell_guid": "b1076dfc-b9ad-4769-8c92-a6c4dae69d19",
    "_uuid": "8f2839f25d086af736a60e9eeb907d3b93b6e0e5",
    "execution": {
     "iopub.execute_input": "2023-12-06T18:14:24.145406Z",
     "iopub.status.busy": "2023-12-06T18:14:24.144993Z",
     "iopub.status.idle": "2023-12-06T18:14:42.039181Z",
     "shell.execute_reply": "2023-12-06T18:14:42.038118Z"
    },
    "papermill": {
     "duration": 17.906033,
     "end_time": "2023-12-06T18:14:42.042339",
     "exception": false,
     "start_time": "2023-12-06T18:14:24.136306",
     "status": "completed"
    },
    "tags": []
   },
   "outputs": [],
   "source": [
    "import numpy as np \n",
    "import os\n",
    "import pandas as pd \n",
    "import tensorflow.compat.v1 as tf\n",
    "import matplotlib.pyplot as plt\n",
    "import shutil\n",
    "tf.disable_eager_execution()\n",
    "import tensorflow_hub as hub\n",
    "from PIL import Image, ImageOps\n",
    "from sklearn.model_selection import train_test_split\n",
    "from tensorflow.keras.preprocessing.image import ImageDataGenerator, img_to_array, load_img\n",
    "from keras.preprocessing import image\n"
   ]
  },
  {
   "cell_type": "markdown",
   "id": "8506722b",
   "metadata": {
    "papermill": {
     "duration": 0.006287,
     "end_time": "2023-12-06T18:14:42.055526",
     "exception": false,
     "start_time": "2023-12-06T18:14:42.049239",
     "status": "completed"
    },
    "tags": []
   },
   "source": [
    "# Dataset Notes\n",
    "Georgia Tech face database (128Mb) contains images of 50 people taken in two \n",
    "or three sessions between 06/01/99 and 11/15/99 at the Center for Signal and \n",
    "Image Processing at  Georgia Institute of Technology. All people in the database \n",
    "are represented by 15 color JPEG images with cluttered background taken at resolution \n",
    "640x480 pixels. The average size of the faces in these images is 150x150 pixels. \n",
    "The images are stored in 50 directories s1, ..., s50. In each directory there \n",
    "are 15 images 01.jpg, ..., 15.jpg corresponding to one person in the database. \n",
    "\n",
    "Each image is manually labeled to determine the position of the face in the image.\n",
    "The label files contain four integers that describe the coordinates of the face rectangles \n",
    "and a string (s1, ..., s50) indicating the identity of the face. Assuming that the upper \n",
    "left corner of the image has the coordinates (0,0), the numbers correspond to the \n",
    "x_left, y_top, x_right, y_bottom coordinates of the face rectangle. \n",
    "\n",
    "The label files are named as follows: \n",
    "lab001-lab015 correspond to files 01.jpg,...,15.jpg  in s01\n",
    "lab021-lab035 correspond to files 01.jpg,...,15.jpg  in s02\n",
    "lab041-lab055 correspond to files 01.jpg,...,15.jpg  in s03\n",
    "lab061-lab075 correspond to files 01.jpg,...,15.jpg  in s04\n",
    "....\n"
   ]
  },
  {
   "cell_type": "code",
   "execution_count": 2,
   "id": "32922657",
   "metadata": {
    "execution": {
     "iopub.execute_input": "2023-12-06T18:14:42.070434Z",
     "iopub.status.busy": "2023-12-06T18:14:42.069344Z",
     "iopub.status.idle": "2023-12-06T18:14:42.078283Z",
     "shell.execute_reply": "2023-12-06T18:14:42.077104Z"
    },
    "papermill": {
     "duration": 0.019119,
     "end_time": "2023-12-06T18:14:42.080762",
     "exception": false,
     "start_time": "2023-12-06T18:14:42.061643",
     "status": "completed"
    },
    "tags": []
   },
   "outputs": [],
   "source": [
    "def display_image_grid(image_paths, rows=4, cols=4):\n",
    "    fig, axes = plt.subplots(rows, cols, figsize=(12, 12))\n",
    "    axes = axes.ravel()\n",
    "\n",
    "    for i, img_path in enumerate(image_paths):\n",
    "        img = Image.open(img_path)\n",
    "        axes[i].imshow(img)\n",
    "        axes[i].axis('off')  # Turn off axis numbers and labels\n",
    "        axes[i].set_title(img_path.split('/')[-1])  # Optional: Set titles as filenames\n",
    "\n",
    "    plt.tight_layout()\n",
    "    plt.show()"
   ]
  },
  {
   "cell_type": "code",
   "execution_count": 3,
   "id": "a9b319ab",
   "metadata": {
    "execution": {
     "iopub.execute_input": "2023-12-06T18:14:42.095227Z",
     "iopub.status.busy": "2023-12-06T18:14:42.094808Z",
     "iopub.status.idle": "2023-12-06T18:14:42.106402Z",
     "shell.execute_reply": "2023-12-06T18:14:42.105010Z"
    },
    "papermill": {
     "duration": 0.021674,
     "end_time": "2023-12-06T18:14:42.108898",
     "exception": false,
     "start_time": "2023-12-06T18:14:42.087224",
     "status": "completed"
    },
    "tags": []
   },
   "outputs": [],
   "source": [
    "def pad_image(image_path, target_size=(299, 299)):\n",
    "    with Image.open(image_path) as img:\n",
    "        old_size = img.size\n",
    "\n",
    "        # Calculate the new size, maintaining the aspect ratio\n",
    "        ratio = float(target_size[0])/max(old_size)\n",
    "        new_size = tuple([int(x*ratio) for x in old_size])\n",
    "\n",
    "        img = img.resize(new_size, Image.LANCZOS)\n",
    "\n",
    "        # Calculate the deltas for padding\n",
    "        delta_w = target_size[0] - new_size[0]\n",
    "        delta_h = target_size[1] - new_size[1]\n",
    "\n",
    "        # Create a new image with the target size and paste the resized image onto it\n",
    "        new_img = Image.new(\"RGB\", target_size)\n",
    "        new_img.paste(img, ((target_size[0] - new_size[0]) // 2,\n",
    "                            (target_size[1] - new_size[1]) // 2))\n",
    "\n",
    "        # Edge padding\n",
    "        left, top, right, bottom = ((target_size[0] - new_size[0]) // 2,\n",
    "                                    (target_size[1] - new_size[1]) // 2,\n",
    "                                    (target_size[0] - new_size[0] - (target_size[0] - new_size[0]) // 2),\n",
    "                                    (target_size[1] - new_size[1] - (target_size[1] - new_size[1]) // 2))\n",
    "        \n",
    "        new_img = ImageOps.expand(new_img, border=(left, top, right, bottom), fill=None)\n",
    "\n",
    "        return np.array(new_img)"
   ]
  },
  {
   "cell_type": "code",
   "execution_count": 4,
   "id": "39e40b12",
   "metadata": {
    "execution": {
     "iopub.execute_input": "2023-12-06T18:14:42.123034Z",
     "iopub.status.busy": "2023-12-06T18:14:42.122619Z",
     "iopub.status.idle": "2023-12-06T18:14:42.131165Z",
     "shell.execute_reply": "2023-12-06T18:14:42.129889Z"
    },
    "papermill": {
     "duration": 0.018686,
     "end_time": "2023-12-06T18:14:42.133672",
     "exception": false,
     "start_time": "2023-12-06T18:14:42.114986",
     "status": "completed"
    },
    "tags": []
   },
   "outputs": [],
   "source": [
    "def group_subjects():\n",
    "    source_dir = '/kaggle/input/cs5567-final/GTdb_crop/cropped_faces'\n",
    "    destination_dir = 'organized_faces'\n",
    "\n",
    "    # Create destination directory if it doesn't exist\n",
    "    if not os.path.exists(destination_dir):\n",
    "        os.makedirs(destination_dir)\n",
    "\n",
    "    # Iterate over all files in the source directory\n",
    "    for filename in os.listdir(source_dir):\n",
    "        if filename.endswith('.jpg'):\n",
    "            # Extract subject identifier from the filename\n",
    "            subject_id = filename.split('_')[0]\n",
    "\n",
    "            # Create a directory for the subject if it doesn't exist\n",
    "            subject_dir = os.path.join(destination_dir, subject_id)\n",
    "            if not os.path.exists(subject_dir):\n",
    "                os.makedirs(subject_dir)\n",
    "\n",
    "            # Move the file to the subject's directory\n",
    "            shutil.copy(os.path.join(source_dir, filename), os.path.join(subject_dir, filename))\n",
    "\n",
    "    print(\"Images have been sorted into subject folders.\")"
   ]
  },
  {
   "cell_type": "code",
   "execution_count": 5,
   "id": "a5851da6",
   "metadata": {
    "execution": {
     "iopub.execute_input": "2023-12-06T18:14:42.147980Z",
     "iopub.status.busy": "2023-12-06T18:14:42.147543Z",
     "iopub.status.idle": "2023-12-06T18:14:42.159673Z",
     "shell.execute_reply": "2023-12-06T18:14:42.158365Z"
    },
    "papermill": {
     "duration": 0.022539,
     "end_time": "2023-12-06T18:14:42.162353",
     "exception": false,
     "start_time": "2023-12-06T18:14:42.139814",
     "status": "completed"
    },
    "tags": []
   },
   "outputs": [],
   "source": [
    "def split_data():\n",
    "    data_dir = '/kaggle/working/organized_faces'\n",
    "    base_dir = 'split_faces'\n",
    "    train_dir = os.path.join(base_dir, 'train')\n",
    "    val_dir = os.path.join(base_dir, 'val')\n",
    "    test_dir = os.path.join(base_dir, 'test')\n",
    "\n",
    "    # Create base directories if they don't exist\n",
    "    for directory in [train_dir, val_dir, test_dir]:\n",
    "        if not os.path.exists(directory):\n",
    "            os.makedirs(directory)\n",
    "\n",
    "    # Function to copy files to the respective directories\n",
    "    def copy_files(files, dest_dir):\n",
    "        subject_dest_dir = os.path.join(dest_dir, subject_folder)\n",
    "        if not os.path.exists(subject_dest_dir):\n",
    "            os.makedirs(subject_dest_dir)\n",
    "        for file in files:\n",
    "            src_file_path = os.path.join(subject_path, file)\n",
    "            dest_file_path = os.path.join(subject_dest_dir, file)\n",
    "            shutil.copy(src_file_path, dest_file_path)\n",
    "\n",
    "    for subject_folder in os.listdir(data_dir):\n",
    "        subject_path = os.path.join(data_dir, subject_folder)\n",
    "        images = os.listdir(subject_path)\n",
    "\n",
    "        # Splitting the data into training, validation, and testing\n",
    "        train_val_images, test_images = images[:10], images[10:]\n",
    "        train_images, val_images = train_test_split(train_val_images, test_size=0.2, random_state = 42)  # 80-20 split\n",
    "\n",
    "        # Copy files to respective directories\n",
    "        copy_files(train_images, train_dir)\n",
    "        copy_files(val_images, val_dir)\n",
    "        copy_files(test_images, test_dir)"
   ]
  },
  {
   "cell_type": "code",
   "execution_count": 6,
   "id": "d98ecb6e",
   "metadata": {
    "execution": {
     "iopub.execute_input": "2023-12-06T18:14:42.177540Z",
     "iopub.status.busy": "2023-12-06T18:14:42.177125Z",
     "iopub.status.idle": "2023-12-06T18:14:42.194355Z",
     "shell.execute_reply": "2023-12-06T18:14:42.193052Z"
    },
    "papermill": {
     "duration": 0.028189,
     "end_time": "2023-12-06T18:14:42.197104",
     "exception": false,
     "start_time": "2023-12-06T18:14:42.168915",
     "status": "completed"
    },
    "tags": []
   },
   "outputs": [],
   "source": [
    "def augment_data(train_datagen):\n",
    "    def resize_with_padding(img, target_size=(299, 299)):\n",
    "        # Resize the image while maintaining aspect ratio\n",
    "        ratio = min(target_size[0] / img.size[0], target_size[1] / img.size[1])\n",
    "        new_size = (int(img.size[0] * ratio), int(img.size[1] * ratio))\n",
    "        img = img.resize(new_size, Image.ANTIALIAS)\n",
    "\n",
    "        # Convert to numpy array for ease of calculation\n",
    "        img_array = np.array(img)\n",
    "\n",
    "        # Calculate the average color of the leftmost and rightmost columns\n",
    "        left_margin = img_array[:, 0, :]\n",
    "        right_margin = img_array[:, -1, :]\n",
    "        avg_color = np.mean(np.concatenate([left_margin, right_margin]), axis=0, dtype=int)\n",
    "\n",
    "        # Create a new image with the average color of the margins\n",
    "        new_img = Image.new(\"RGB\", target_size, tuple(avg_color))\n",
    "        top_left_x = (target_size[0] - new_size[0]) // 2\n",
    "        top_left_y = (target_size[1] - new_size[1]) // 2\n",
    "        new_img.paste(img, (top_left_x, top_left_y))\n",
    "\n",
    "        return new_img\n",
    "    np.random.seed(42)\n",
    "\n",
    "    directories = {\n",
    "        'train': '/kaggle/working/split_faces/train',\n",
    "        'test': '/kaggle/working/split_faces/test',\n",
    "        'val': '/kaggle/working/split_faces/val'\n",
    "    }\n",
    "\n",
    "    augmented_dir = 'augmented_faces'\n",
    "\n",
    "    for dir_type, dir_path in directories.items():\n",
    "        for subject in os.listdir(dir_path):\n",
    "            subject_dir = os.path.join(dir_path, subject)\n",
    "            augmented_subject_dir = os.path.join(augmented_dir, dir_type, subject)\n",
    "\n",
    "            if not os.path.exists(augmented_subject_dir):\n",
    "                os.makedirs(augmented_subject_dir)\n",
    "\n",
    "            for img_file in os.listdir(subject_dir):\n",
    "                img_path = os.path.join(subject_dir, img_file)\n",
    "                img = Image.open(img_path)\n",
    "                img = resize_with_padding(img, (299, 299))\n",
    "                img_array = img_to_array(img)\n",
    "                img_array = np.expand_dims(img_array, axis=0)\n",
    "\n",
    "                file_name_without_ext = os.path.splitext(img_file)[0]\n",
    "\n",
    "                if dir_type == 'train':\n",
    "                    # Apply augmentation for training images\n",
    "                    i = 0\n",
    "                    for batch in train_datagen.flow(img_array, batch_size=1,\n",
    "                                                    save_to_dir=augmented_subject_dir,\n",
    "                                                    save_prefix=file_name_without_ext + '_',\n",
    "                                                    save_format='jpg'):\n",
    "                        i += 1\n",
    "                        if i >= 5:\n",
    "                            break\n",
    "                else:\n",
    "                    # For test and val, only resize and save the image\n",
    "                    img.save(os.path.join(augmented_subject_dir, f\"{file_name_without_ext}.jpg\"))"
   ]
  },
  {
   "cell_type": "code",
   "execution_count": 7,
   "id": "c83d6a7d",
   "metadata": {
    "execution": {
     "iopub.execute_input": "2023-12-06T18:14:42.213195Z",
     "iopub.status.busy": "2023-12-06T18:14:42.212458Z",
     "iopub.status.idle": "2023-12-06T18:14:42.261691Z",
     "shell.execute_reply": "2023-12-06T18:14:42.260416Z"
    },
    "papermill": {
     "duration": 0.06025,
     "end_time": "2023-12-06T18:14:42.264163",
     "exception": false,
     "start_time": "2023-12-06T18:14:42.203913",
     "status": "completed"
    },
    "tags": []
   },
   "outputs": [
    {
     "name": "stdout",
     "output_type": "stream",
     "text": [
      "The image shape is: Width = 181, Height = 241\n",
      "Number of channels: 3\n"
     ]
    }
   ],
   "source": [
    "# Open an image\n",
    "image = Image.open('/kaggle/input/cs5567-final/GTdb_crop/cropped_faces/s01_01.jpg')\n",
    "\n",
    "# Get image size\n",
    "width, height = image.size\n",
    "\n",
    "print(f\"The image shape is: Width = {width}, Height = {height}\")\n",
    "\n",
    "# Note: PIL does not provide the number of channels directly, but you can get it like this:\n",
    "channels = len(image.getbands())\n",
    "print(f\"Number of channels: {channels}\")"
   ]
  },
  {
   "cell_type": "code",
   "execution_count": 8,
   "id": "ffdff103",
   "metadata": {
    "execution": {
     "iopub.execute_input": "2023-12-06T18:14:42.283056Z",
     "iopub.status.busy": "2023-12-06T18:14:42.281385Z",
     "iopub.status.idle": "2023-12-06T18:14:48.024490Z",
     "shell.execute_reply": "2023-12-06T18:14:48.023112Z"
    },
    "papermill": {
     "duration": 5.75626,
     "end_time": "2023-12-06T18:14:48.027250",
     "exception": false,
     "start_time": "2023-12-06T18:14:42.270990",
     "status": "completed"
    },
    "tags": []
   },
   "outputs": [
    {
     "name": "stdout",
     "output_type": "stream",
     "text": [
      "Images have been sorted into subject folders.\n"
     ]
    }
   ],
   "source": [
    "group_subjects()"
   ]
  },
  {
   "cell_type": "markdown",
   "id": "e777c88c",
   "metadata": {
    "execution": {
     "iopub.execute_input": "2023-12-06T16:38:19.433046Z",
     "iopub.status.busy": "2023-12-06T16:38:19.432431Z",
     "iopub.status.idle": "2023-12-06T16:38:25.248959Z",
     "shell.execute_reply": "2023-12-06T16:38:25.247544Z",
     "shell.execute_reply.started": "2023-12-06T16:38:19.433015Z"
    },
    "papermill": {
     "duration": 0.006068,
     "end_time": "2023-12-06T18:14:48.040010",
     "exception": false,
     "start_time": "2023-12-06T18:14:48.033942",
     "status": "completed"
    },
    "tags": []
   },
   "source": [
    "image_dir = '/kaggle/input/cs5567-final/GTdb_crop/cropped_faces'\n",
    "padded_dir = 'padded_faces'\n",
    "label_dir = '/kaggle/input/cs5567-final/labels_gt/labels'\n",
    "\n",
    "# Create padded image directory if it doesn't exist\n",
    "if not os.path.exists(padded_dir):\n",
    "    os.makedirs(padded_dir)\n",
    "\n",
    "# Iterate through each image file in the directory\n",
    "for filename in os.listdir(image_dir):\n",
    "    if filename.endswith('.jpg'):  # Assuming images are in .jpg format\n",
    "        image_path = os.path.join(image_dir, filename)\n",
    "        padded_image = pad_image(image_path)\n",
    "\n",
    "        # Convert back to PIL image and save\n",
    "        pil_image = Image.fromarray(padded_image)\n",
    "        save_path = os.path.join(padded_dir, filename)\n",
    "        pil_image.save(save_path)"
   ]
  },
  {
   "cell_type": "code",
   "execution_count": 9,
   "id": "71870559",
   "metadata": {
    "execution": {
     "iopub.execute_input": "2023-12-06T18:14:48.054815Z",
     "iopub.status.busy": "2023-12-06T18:14:48.054354Z",
     "iopub.status.idle": "2023-12-06T18:14:48.204604Z",
     "shell.execute_reply": "2023-12-06T18:14:48.203429Z"
    },
    "papermill": {
     "duration": 0.161094,
     "end_time": "2023-12-06T18:14:48.207709",
     "exception": false,
     "start_time": "2023-12-06T18:14:48.046615",
     "status": "completed"
    },
    "tags": []
   },
   "outputs": [],
   "source": [
    "split_data()"
   ]
  },
  {
   "cell_type": "code",
   "execution_count": 10,
   "id": "cb5588cb",
   "metadata": {
    "execution": {
     "iopub.execute_input": "2023-12-06T18:14:48.222349Z",
     "iopub.status.busy": "2023-12-06T18:14:48.221931Z",
     "iopub.status.idle": "2023-12-06T18:14:48.229377Z",
     "shell.execute_reply": "2023-12-06T18:14:48.228265Z"
    },
    "papermill": {
     "duration": 0.017322,
     "end_time": "2023-12-06T18:14:48.231508",
     "exception": false,
     "start_time": "2023-12-06T18:14:48.214186",
     "status": "completed"
    },
    "tags": []
   },
   "outputs": [],
   "source": [
    "train_datagen = ImageDataGenerator(\n",
    "    rotation_range=15,             # Random rotation between -15 to 15 degrees\n",
    "    width_shift_range=0.05,         # Horizontal shift, here 10% of the total width\n",
    "    height_shift_range=0.05,        # Vertical shift, here 10% of the total height\n",
    "    brightness_range=(0.2, 0.2),         # No brightness adjustment\n",
    "    shear_range=0.0,               # No shear transformation\n",
    "    zoom_range=0.05,                # No zoom\n",
    "    channel_shift_range=20,       # No channel shift\n",
    "    fill_mode='nearest',           # Fill strategy for new pixels after rotation/shift\n",
    "    cval=0.0,                      # Value used for fill_mode=\"constant\"\n",
    "    horizontal_flip=False,         # No horizontal flip\n",
    "    vertical_flip=False,           # No vertical flip\n",
    "    rescale=None,                  # No rescaling factor (e.g., rescale=1./255)\n",
    "    preprocessing_function=None,   # No preprocessing function\n",
    "    data_format=None,              # Default data format\n",
    "    validation_split=0.0,          # No validation split\n",
    "    interpolation_order=1,         # Default interpolation order\n",
    "    dtype=None                     # Default data type\n",
    ")\n"
   ]
  },
  {
   "cell_type": "code",
   "execution_count": 11,
   "id": "66afe4de",
   "metadata": {
    "execution": {
     "iopub.execute_input": "2023-12-06T18:14:48.246236Z",
     "iopub.status.busy": "2023-12-06T18:14:48.245827Z",
     "iopub.status.idle": "2023-12-06T18:15:41.753344Z",
     "shell.execute_reply": "2023-12-06T18:15:41.752209Z"
    },
    "papermill": {
     "duration": 53.517961,
     "end_time": "2023-12-06T18:15:41.756061",
     "exception": false,
     "start_time": "2023-12-06T18:14:48.238100",
     "status": "completed"
    },
    "tags": []
   },
   "outputs": [
    {
     "name": "stderr",
     "output_type": "stream",
     "text": [
      "/tmp/ipykernel_19/2788992328.py:6: DeprecationWarning: ANTIALIAS is deprecated and will be removed in Pillow 10 (2023-07-01). Use LANCZOS or Resampling.LANCZOS instead.\n",
      "  img = img.resize(new_size, Image.ANTIALIAS)\n"
     ]
    }
   ],
   "source": [
    "augment_data(train_datagen)"
   ]
  },
  {
   "cell_type": "markdown",
   "id": "2b88aa76",
   "metadata": {
    "execution": {
     "iopub.execute_input": "2023-12-06T17:57:42.335724Z",
     "iopub.status.busy": "2023-12-06T17:57:42.334834Z",
     "iopub.status.idle": "2023-12-06T17:57:42.343405Z",
     "shell.execute_reply": "2023-12-06T17:57:42.342048Z",
     "shell.execute_reply.started": "2023-12-06T17:57:42.335669Z"
    },
    "papermill": {
     "duration": 0.006345,
     "end_time": "2023-12-06T18:15:41.769052",
     "exception": false,
     "start_time": "2023-12-06T18:15:41.762707",
     "status": "completed"
    },
    "tags": []
   },
   "source": [
    "# Open an image\n",
    "image = Image.open('/kaggle/working/augmented_faces/train/s01/s01_13__0_5161.jpg')\n",
    "\n",
    "# Get image size\n",
    "width, height = image.size\n",
    "\n",
    "print(f\"The image shape is: Width = {width}, Height = {height}\")\n",
    "\n",
    "# Note: PIL does not provide the number of channels directly, but you can get it like this:\n",
    "channels = len(image.getbands())\n",
    "print(f\"Number of channels: {channels}\")"
   ]
  },
  {
   "cell_type": "markdown",
   "id": "32124316",
   "metadata": {
    "execution": {
     "iopub.execute_input": "2023-12-06T18:05:51.699946Z",
     "iopub.status.busy": "2023-12-06T18:05:51.699424Z",
     "iopub.status.idle": "2023-12-06T18:05:54.263682Z",
     "shell.execute_reply": "2023-12-06T18:05:54.262660Z",
     "shell.execute_reply.started": "2023-12-06T18:05:51.699910Z"
    },
    "papermill": {
     "duration": 0.006158,
     "end_time": "2023-12-06T18:15:41.781900",
     "exception": false,
     "start_time": "2023-12-06T18:15:41.775742",
     "status": "completed"
    },
    "tags": []
   },
   "source": [
    "image_files = [\n",
    "    \"/kaggle/working/split_faces/train/s33/s33_08.jpg\",\n",
    "    \"/kaggle/working/augmented_faces/train/s33/s33_08__0_5486.jpg\",\n",
    "    \"/kaggle/working/augmented_faces/train/s33/s33_08__0_8666.jpg\",\n",
    "    \"/kaggle/working/augmented_faces/train/s33/s33_08__0_8322.jpg\",\n",
    "\n",
    "    \"/kaggle/working/split_faces/train/s40/s40_12.jpg\",\n",
    "    \"/kaggle/working/augmented_faces/train/s40/s40_12__0_9347.jpg\",\n",
    "    \"/kaggle/working/augmented_faces/train/s40/s40_12__0_5348.jpg\",\n",
    "    \"/kaggle/working/augmented_faces/train/s40/s40_12__0_4849.jpg\",\n",
    "\n",
    "    \"/kaggle/working/split_faces/train/s36/s36_12.jpg\",\n",
    "    \"/kaggle/working/augmented_faces/train/s36/s36_12__0_3876.jpg\",\n",
    "    \"/kaggle/working/augmented_faces/train/s36/s36_12__0_345.jpg\",\n",
    "    \"/kaggle/working/augmented_faces/train/s36/s36_12__0_8393.jpg\",\n",
    "    \n",
    "    \"/kaggle/working/split_faces/train/s28/s28_08.jpg\",\n",
    "    \"/kaggle/working/augmented_faces/train/s28/s28_08__0_9098.jpg\",\n",
    "    \"/kaggle/working/augmented_faces/train/s28/s28_08__0_988.jpg\",\n",
    "    \"/kaggle/working/augmented_faces/train/s28/s28_08__0_9437.jpg\"\n",
    "]\n",
    "\n",
    "# Call the function to display the images\n",
    "display_image_grid(image_files)"
   ]
  },
  {
   "cell_type": "code",
   "execution_count": null,
   "id": "eddddc37",
   "metadata": {
    "papermill": {
     "duration": 0.006096,
     "end_time": "2023-12-06T18:15:41.794542",
     "exception": false,
     "start_time": "2023-12-06T18:15:41.788446",
     "status": "completed"
    },
    "tags": []
   },
   "outputs": [],
   "source": []
  }
 ],
 "metadata": {
  "kaggle": {
   "accelerator": "none",
   "dataSources": [
    {
     "datasetId": 4114693,
     "sourceId": 7131655,
     "sourceType": "datasetVersion"
    },
    {
     "isSourceIdPinned": true,
     "modelInstanceId": 2323,
     "sourceId": 3174,
     "sourceType": "modelInstanceVersion"
    }
   ],
   "dockerImageVersionId": 30587,
   "isGpuEnabled": false,
   "isInternetEnabled": true,
   "language": "python",
   "sourceType": "notebook"
  },
  "kernelspec": {
   "display_name": "Python 3",
   "language": "python",
   "name": "python3"
  },
  "language_info": {
   "codemirror_mode": {
    "name": "ipython",
    "version": 3
   },
   "file_extension": ".py",
   "mimetype": "text/x-python",
   "name": "python",
   "nbconvert_exporter": "python",
   "pygments_lexer": "ipython3",
   "version": "3.10.12"
  },
  "papermill": {
   "default_parameters": {},
   "duration": 84.106918,
   "end_time": "2023-12-06T18:15:43.426887",
   "environment_variables": {},
   "exception": null,
   "input_path": "__notebook__.ipynb",
   "output_path": "__notebook__.ipynb",
   "parameters": {},
   "start_time": "2023-12-06T18:14:19.319969",
   "version": "2.4.0"
  }
 },
 "nbformat": 4,
 "nbformat_minor": 5
}
